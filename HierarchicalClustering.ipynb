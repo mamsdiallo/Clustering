{
  "nbformat": 4,
  "nbformat_minor": 0,
  "metadata": {
    "colab": {
      "name": "HierarchicalClustering.ipynb",
      "version": "0.3.2",
      "provenance": [],
      "collapsed_sections": [],
      "include_colab_link": true
    },
    "kernelspec": {
      "name": "python3",
      "display_name": "Python 3"
    }
  },
  "cells": [
    {
      "cell_type": "markdown",
      "metadata": {
        "id": "view-in-github",
        "colab_type": "text"
      },
      "source": [
        "<a href=\"https://colab.research.google.com/github/mamsdiallo/Clustering/blob/master/HierarchicalClustering.ipynb\" target=\"_parent\"><img src=\"https://colab.research.google.com/assets/colab-badge.svg\" alt=\"Open In Colab\"/></a>"
      ]
    },
    {
      "cell_type": "markdown",
      "metadata": {
        "id": "WZPy5mPL99BP",
        "colab_type": "text"
      },
      "source": [
        "# Hierarchical Clustering\n",
        "\n",
        "## Source\n",
        "\n",
        "[here](https://stackabuse.com/hierarchical-clustering-with-python-and-scikit-learn/)\n",
        "\n",
        "## Resources\n",
        "\n",
        "[resource 1](https://joernhees.de/blog/2015/08/26/scipy-hierarchical-clustering-and-dendrogram-tutorial/)\n",
        "\n",
        "[resource 2](https://towardsdatascience.com/machine-learning-algorithms-part-12-hierarchical-agglomerative-clustering-example-in-python-1e18e0075019)"
      ]
    },
    {
      "cell_type": "markdown",
      "metadata": {
        "id": "ZFbDnyDj-MGU",
        "colab_type": "text"
      },
      "source": [
        "### Data source"
      ]
    },
    {
      "cell_type": "code",
      "metadata": {
        "id": "8BPyHcEo95UD",
        "colab_type": "code",
        "colab": {}
      },
      "source": [
        "import numpy as np\n",
        "\n",
        "X = np.array([[5,3],  \n",
        "    [10,15],\n",
        "    [15,12],\n",
        "    [24,10],\n",
        "    [30,30],\n",
        "    [85,70],\n",
        "    [71,80],\n",
        "    [60,78],\n",
        "    [70,55],\n",
        "    [80,91],])"
      ],
      "execution_count": 0,
      "outputs": []
    },
    {
      "cell_type": "markdown",
      "metadata": {
        "id": "SV4OrPMPA8fF",
        "colab_type": "text"
      },
      "source": [
        "### Visualize Data source"
      ]
    },
    {
      "cell_type": "code",
      "metadata": {
        "id": "XrPtJ8OR98q8",
        "colab_type": "code",
        "outputId": "661d9d3f-ac5a-4fd6-b60d-984792b986a8",
        "colab": {
          "base_uri": "https://localhost:8080/",
          "height": 445
        }
      },
      "source": [
        "import matplotlib.pyplot as plt\n",
        "\n",
        "labels = range(1, 11)  \n",
        "plt.figure(figsize=(10, 7))  \n",
        "plt.subplots_adjust(bottom=0.1)  \n",
        "plt.scatter(X[:,0],X[:,1], label='True Position')\n",
        "\n",
        "for label, x, y in zip(labels, X[:, 0], X[:, 1]):  \n",
        "    plt.annotate(\n",
        "        label,\n",
        "        xy=(x, y), xytext=(-3, 3),\n",
        "        textcoords='offset points', ha='right', va='bottom')\n",
        "plt.show()  "
      ],
      "execution_count": 0,
      "outputs": [
        {
          "output_type": "display_data",
          "data": {
            "image/png": "[encoded data removed]",
            "text/plain": [
              "<Figure size 720x504 with 1 Axes>"
            ]
          },
          "metadata": {
            "tags": []
          }
        }
      ]
    },
    {
      "cell_type": "markdown",
      "metadata": {
        "id": "10pUmnh0BWsa",
        "colab_type": "text"
      },
      "source": [
        "### Dendrogram"
      ]
    },
    {
      "cell_type": "code",
      "metadata": {
        "id": "QedGZOci98u0",
        "colab_type": "code",
        "outputId": "5b24b0fa-e006-4020-f844-f9a54c31096a",
        "colab": {
          "base_uri": "https://localhost:8080/",
          "height": 435
        }
      },
      "source": [
        "from scipy.cluster.hierarchy import dendrogram, linkage  \n",
        "from matplotlib import pyplot as plt\n",
        "\n",
        "linked = linkage(X, 'single')\n",
        "\n",
        "labelList = range(1, 11)\n",
        "\n",
        "plt.figure(figsize=(10, 7))  \n",
        "dendrogram(linked,  \n",
        "            orientation='top',\n",
        "            labels=labelList,\n",
        "            distance_sort='descending',\n",
        "            show_leaf_counts=True)\n",
        "plt.show()  "
      ],
      "execution_count": 0,
      "outputs": [
        {
          "output_type": "display_data",
          "data": {
            "image/png": "[encoded data removed]",
            "text/plain": [
              "<Figure size 720x504 with 1 Axes>"
            ]
          },
          "metadata": {
            "tags": []
          }
        }
      ]
    },
    {
      "cell_type": "markdown",
      "metadata": {
        "id": "z5FYYUmB_qZf",
        "colab_type": "text"
      },
      "source": [
        "### Other method"
      ]
    },
    {
      "cell_type": "code",
      "metadata": {
        "id": "cUPivfNU_s1a",
        "colab_type": "code",
        "colab": {}
      },
      "source": [
        "X = np.array([[5,3],  \n",
        "    [10,15],\n",
        "    [15,12],\n",
        "    [24,10],\n",
        "    [30,30],\n",
        "    [85,70],\n",
        "    [71,80],\n",
        "    [60,78],\n",
        "    [70,55],\n",
        "    [80,91],])"
      ],
      "execution_count": 0,
      "outputs": []
    },
    {
      "cell_type": "code",
      "metadata": {
        "id": "sbcVBNuD_zb7",
        "colab_type": "code",
        "outputId": "e1b1e239-9c28-4b37-c3a4-96648a27dcb8",
        "colab": {
          "base_uri": "https://localhost:8080/",
          "height": 34
        }
      },
      "source": [
        "from sklearn.cluster import AgglomerativeClustering\n",
        "\n",
        "cluster = AgglomerativeClustering(n_clusters=4, affinity='euclidean', linkage='ward')  \n",
        "cluster.fit_predict(X)  "
      ],
      "execution_count": 0,
      "outputs": [
        {
          "output_type": "execute_result",
          "data": {
            "text/plain": [
              "array([1, 1, 1, 1, 3, 2, 0, 0, 2, 0])"
            ]
          },
          "metadata": {
            "tags": []
          },
          "execution_count": 5
        }
      ]
    },
    {
      "cell_type": "code",
      "metadata": {
        "id": "KIB1JsuG_4Xs",
        "colab_type": "code",
        "outputId": "47411ff2-9bef-46a5-f1e7-00081d3cca6c",
        "colab": {
          "base_uri": "https://localhost:8080/",
          "height": 34
        }
      },
      "source": [
        "print(cluster.labels_)  "
      ],
      "execution_count": 0,
      "outputs": [
        {
          "output_type": "stream",
          "text": [
            "[1 1 1 1 3 2 0 0 2 0]\n"
          ],
          "name": "stdout"
        }
      ]
    },
    {
      "cell_type": "code",
      "metadata": {
        "id": "qy96NlGhAATk",
        "colab_type": "code",
        "outputId": "e5dd467f-bb00-40d2-fb72-422f16a9f630",
        "colab": {
          "base_uri": "https://localhost:8080/",
          "height": 286
        }
      },
      "source": [
        "plt.scatter(X[:,0],X[:,1], c=cluster.labels_, cmap='rainbow')  "
      ],
      "execution_count": 0,
      "outputs": [
        {
          "output_type": "execute_result",
          "data": {
            "text/plain": [
              "<matplotlib.collections.PathCollection at 0x7fdcaab96630>"
            ]
          },
          "metadata": {
            "tags": []
          },
          "execution_count": 7
        },
        {
          "output_type": "display_data",
          "data": {
            "image/png": "[encoded data removed]",
            "text/plain": [
              "<Figure size 432x288 with 1 Axes>"
            ]
          },
          "metadata": {
            "tags": []
          }
        }
      ]
    }
  ]
}